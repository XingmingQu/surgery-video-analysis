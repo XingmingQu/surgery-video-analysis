{
 "cells": [
  {
   "cell_type": "code",
   "execution_count": 93,
   "metadata": {},
   "outputs": [
    {
     "name": "stdout",
     "output_type": "stream",
     "text": [
      "Import from Labelhelper\n"
     ]
    }
   ],
   "source": [
    "print(\"Import from Labelhelper\")\n",
    "import pandas as pd\n",
    "import numpy as np\n",
    "from sklearn.model_selection import train_test_split"
   ]
  },
  {
   "cell_type": "code",
   "execution_count": 94,
   "metadata": {},
   "outputs": [
    {
     "name": "stdout",
     "output_type": "stream",
     "text": [
      "test...\n"
     ]
    }
   ],
   "source": [
    "class Label:\n",
    "    def __init__(self, label_csv_file):\n",
    "        self.label_csv_file = pd.read_csv(label_csv_file)        \n",
    "        self.r_max,self.r_min=self._set_rmax_and_rmin()\n",
    "        self.trainee_dict=self._set_trainee_dict()\n",
    "\n",
    "    def _set_rmax_and_rmin(self):  \n",
    "        r_group=self.label_csv_file.groupby(['VideoNum'])\n",
    "        r_max=r_group.max()\n",
    "        r_min=r_group.min()\n",
    "        r_max=r_max.reset_index()\n",
    "        r_min=r_min.reset_index()\n",
    "        return r_max,r_min\n",
    "    \n",
    "    def _set_trainee_dict(self):\n",
    "        name_group=self.label_csv_file.groupby(['lastName'])\n",
    "        return dict(name_group.VideoNum.unique())\n",
    "        \n",
    "    def video_count(self):\n",
    "        counts=self.label_csv_file['VideoNum'].value_counts()\n",
    "        return len(counts)\n",
    "    \n",
    "    def get_review_times_by_video_number(self,videoNum):\n",
    "        counts=self.label_csv_file['VideoNum'].value_counts()\n",
    "        times=int(counts[counts.index==videoNum])\n",
    "        return times\n",
    "    \n",
    "    def get_video_score_range_by_video_number(self,videoNum):\n",
    "\n",
    "        vmax=self.r_max[self.r_max['VideoNum']==videoNum]\n",
    "        vmin=self.r_min[self.r_min['VideoNum']==videoNum]\n",
    "        return vmax,vmin\n",
    "    \n",
    "    def get_video_mean_label(self,videoNum):\n",
    "        group=self.label_csv_file[self.label_csv_file['VideoNum'] == videoNum]\n",
    "#         print(group)\n",
    "        return np.array(group.mean()[1:])\n",
    "\n",
    "    def get_video_median_label(self,videoNum):\n",
    "        group=self.label_csv_file[self.label_csv_file['VideoNum'] == videoNum]\n",
    "#         print(group)\n",
    "        return np.array(group.median()[1:])\n",
    "\n",
    "    def get_video_number(self):\n",
    "        return self.label_csv_file.VideoNum.unique()\n",
    "    \n",
    "    def get_trainee_info(self):\n",
    "        names=self.label_csv_file.lastName.unique()\n",
    "        print(\"There are %d trainees in total\"%len(names))      \n",
    "        print(\"\\nVideos from each person\")\n",
    "        group=self.label_csv_file.groupby(['lastName'])\n",
    "        print(group.VideoNum.count())\n",
    "        \n",
    "    def get_video_number_by_name(self,name):\n",
    "        return self.trainee_dict[name]\n",
    "        \n",
    "    def train_test_split_on_people(self,test_ratio):\n",
    "        peoples=list(self.trainee_dict.keys())\n",
    "        train_people,test_people= train_test_split(peoples,test_size=test_ratio)\n",
    "        \n",
    "        print(\"train on videos from:\\n\",train_people)\n",
    "        print(\"test on videos from:\\n\",test_people)\n",
    "        \n",
    "        train_video_number=np.concatenate([self.get_video_number_by_name(people) for people in train_people], axis=None)\n",
    "        test_video_number=np.concatenate([self.get_video_number_by_name(people) for people in test_people], axis=None)\n",
    "        return train_video_number,test_video_number\n",
    "\n",
    "if __name__ == \"__main__\": \n",
    "    print(\"test...\")       "
   ]
  },
  {
   "cell_type": "code",
   "execution_count": 89,
   "metadata": {},
   "outputs": [
    {
     "name": "stdout",
     "output_type": "stream",
     "text": [
      "train on videos from:\n",
      " ['Tse', 'Rozanski', 'Timburlake', 'Moony', 'Sorokin', 'Varun', 'Singla', 'Johnson', 'Satyanarayan', 'Akhtar', 'Kenigsberg', 'Keith', 'Crivelli', 'Marthur', 'Gahan', 'Krabbe']\n",
      "test on videos from:\n",
      " ['Passoni', 'Cadeddu', 'Mollengarden', 'Unknown']\n",
      "[ 11 283 414 427 562 928 113 302 716 258 296 559 742 294 301 361 498 539\n",
      "  91 226 507 530 192 401 417 820  49 536 538 441 615  16  74 236 358 436\n",
      " 457 503 537 557 578 599 632 689 176 253 761  78 440 455 471 881 240 277\n",
      " 717 225 276 333 425 130 194 222 368 921 257 345 378 384 486 152 344 527\n",
      " 861]\n",
      "[207 237 895 942 164 171  59 143 267 460 924]\n"
     ]
    }
   ],
   "source": [
    "ll=Label('..//2019_fall_labels.csv')\n",
    "# N=ll.get_video_number()\n",
    "aa,bb=ll.train_test_split_on_people(0.2)\n",
    "print(aa)\n",
    "print(bb)"
   ]
  },
  {
   "cell_type": "code",
   "execution_count": 41,
   "metadata": {},
   "outputs": [],
   "source": [
    "cc=ll.label_csv_file.groupby(['lastName'])\n",
    "aa=cc.VideoNum.unique()"
   ]
  },
  {
   "cell_type": "code",
   "execution_count": 46,
   "metadata": {},
   "outputs": [
    {
     "data": {
      "text/plain": [
       "array([ 11, 283, 414, 427, 562, 928], dtype=int64)"
      ]
     },
     "execution_count": 46,
     "metadata": {},
     "output_type": "execute_result"
    }
   ],
   "source": [
    "d=dict(aa)\n",
    "d['Tse']"
   ]
  },
  {
   "cell_type": "code",
   "execution_count": 38,
   "metadata": {},
   "outputs": [
    {
     "data": {
      "text/plain": [
       "lastName\n",
       "Akhtar          11\n",
       "Cadeddu          8\n",
       "Crivelli        11\n",
       "Gahan           15\n",
       "Johnson          8\n",
       "Keith           10\n",
       "Kenigsberg      13\n",
       "Krabbe          12\n",
       "Marthur         14\n",
       "Mollengarden    15\n",
       "Moony           11\n",
       "Passoni         11\n",
       "Rozanski        11\n",
       "Satyanarayan    25\n",
       "Singla          12\n",
       "Sorokin         12\n",
       "Timburlake      11\n",
       "Tse             18\n",
       "Unknown          1\n",
       "Varun           12\n",
       "Name: VideoNum, dtype: int64"
      ]
     },
     "execution_count": 38,
     "metadata": {},
     "output_type": "execute_result"
    }
   ],
   "source": [
    "cc.VideoNum.count()\n",
    "# a,b=ll.get_video_Scorerange(11)\n",
    "# ll.get_video_median_label(11)"
   ]
  },
  {
   "cell_type": "code",
   "execution_count": 83,
   "metadata": {
    "scrolled": true
   },
   "outputs": [],
   "source": [
    "# cc=ll.label_csv_file\n",
    "# cc"
   ]
  },
  {
   "cell_type": "code",
   "execution_count": 10,
   "metadata": {},
   "outputs": [
    {
     "data": {
      "text/plain": [
       "array(['Tse', 'Satyanarayan', 'Singla', 'Mollengarden', 'Kenigsberg',\n",
       "       'Sorokin', 'Rozanski', 'Marthur', 'Krabbe', 'Cadeddu', 'Akhtar',\n",
       "       'Varun', 'Passoni', 'Crivelli', 'Keith', 'Gahan', 'Timburlake',\n",
       "       'Moony', 'Johnson', 'Unknown'], dtype=object)"
      ]
     },
     "execution_count": 10,
     "metadata": {},
     "output_type": "execute_result"
    }
   ],
   "source": [
    "cc.lastName.unique()"
   ]
  },
  {
   "cell_type": "code",
   "execution_count": null,
   "metadata": {},
   "outputs": [],
   "source": []
  },
  {
   "cell_type": "code",
   "execution_count": 6,
   "metadata": {},
   "outputs": [],
   "source": [
    "# name=pd.read_csv(\"../name_list.csv\")"
   ]
  },
  {
   "cell_type": "code",
   "execution_count": 7,
   "metadata": {},
   "outputs": [],
   "source": [
    "# result = pd.merge(cc,name,on='VideoNum', how='left')"
   ]
  },
  {
   "cell_type": "code",
   "execution_count": null,
   "metadata": {},
   "outputs": [],
   "source": []
  },
  {
   "cell_type": "code",
   "execution_count": 8,
   "metadata": {},
   "outputs": [],
   "source": [
    "# result.to_csv(\"..//2019_fall_labels.csv\",index=False)"
   ]
  },
  {
   "cell_type": "code",
   "execution_count": 9,
   "metadata": {},
   "outputs": [],
   "source": [
    "# result.info()"
   ]
  },
  {
   "cell_type": "code",
   "execution_count": null,
   "metadata": {},
   "outputs": [],
   "source": []
  },
  {
   "cell_type": "code",
   "execution_count": null,
   "metadata": {},
   "outputs": [],
   "source": []
  },
  {
   "cell_type": "code",
   "execution_count": null,
   "metadata": {},
   "outputs": [],
   "source": []
  },
  {
   "cell_type": "code",
   "execution_count": null,
   "metadata": {},
   "outputs": [],
   "source": []
  }
 ],
 "metadata": {
  "kernelspec": {
   "display_name": "Python 3",
   "language": "python",
   "name": "python3"
  },
  "language_info": {
   "codemirror_mode": {
    "name": "ipython",
    "version": 3
   },
   "file_extension": ".py",
   "mimetype": "text/x-python",
   "name": "python",
   "nbconvert_exporter": "python",
   "pygments_lexer": "ipython3",
   "version": "3.6.5"
  },
  "latex_envs": {
   "LaTeX_envs_menu_present": true,
   "autoclose": false,
   "autocomplete": true,
   "bibliofile": "biblio.bib",
   "cite_by": "apalike",
   "current_citInitial": 1,
   "eqLabelWithNumbers": true,
   "eqNumInitial": 1,
   "hotkeys": {
    "equation": "Ctrl-E",
    "itemize": "Ctrl-I"
   },
   "labels_anchors": false,
   "latex_user_defs": false,
   "report_style_numbering": false,
   "user_envs_cfg": false
  },
  "varInspector": {
   "cols": {
    "lenName": 16,
    "lenType": 16,
    "lenVar": 40
   },
   "kernels_config": {
    "python": {
     "delete_cmd_postfix": "",
     "delete_cmd_prefix": "del ",
     "library": "var_list.py",
     "varRefreshCmd": "print(var_dic_list())"
    },
    "r": {
     "delete_cmd_postfix": ") ",
     "delete_cmd_prefix": "rm(",
     "library": "var_list.r",
     "varRefreshCmd": "cat(var_dic_list()) "
    }
   },
   "types_to_exclude": [
    "module",
    "function",
    "builtin_function_or_method",
    "instance",
    "_Feature"
   ],
   "window_display": false
  }
 },
 "nbformat": 4,
 "nbformat_minor": 2
}
