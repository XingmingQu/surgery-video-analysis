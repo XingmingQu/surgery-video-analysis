{
 "cells": [
  {
   "cell_type": "code",
   "execution_count": 1,
   "metadata": {},
   "outputs": [
    {
     "name": "stdout",
     "output_type": "stream",
     "text": [
      "Import an awesome Labelhelper\n"
     ]
    }
   ],
   "source": [
    "import pandas as pd\n",
    "import numpy as np\n",
    "import os\n",
    "from os.path import join as pjoin\n",
    "import labelHelper as lh\n",
    "from sklearn.model_selection import train_test_split\n",
    "import random"
   ]
  },
  {
   "cell_type": "code",
   "execution_count": 12,
   "metadata": {},
   "outputs": [],
   "source": [
    "def get_raw_feature_by_folder_and_videoNumbers(video_data_folder,video_number):\n",
    "    feature=[]\n",
    "    print(\"load feature from files, there are %d videos\"%len(video_number))\n",
    "    for number in video_number:\n",
    "        file_name = \"raw_{}.npy\".format(str(number))\n",
    "        each_video= pjoin(video_data_folder,file_name)\n",
    "        try:\n",
    "            feature.append(np.load(each_video))\n",
    "        except:\n",
    "            print(\"Video %d did not find\" %number)\n",
    "            video_number = video_number[video_number!=number]\n",
    "    \n",
    "    print(\"after deop: \",len(video_number))\n",
    "    return feature,video_number\n",
    "\n",
    "def get_diff_and_hstack_to_orginal_data(X,time_lag=2,move_threshold=200):\n",
    "    original=X[:-time_lag]\n",
    "    modified=X[time_lag:]\n",
    "    result=modified-original\n",
    "    ## threshold\n",
    "    # consider there was no top in the first image and it showed up in the next image\n",
    "    # the difference would be huge, which was not ideal.\n",
    "    # so we need to filter these extrem value \n",
    "    result[np.abs(result)>move_threshold]=0\n",
    "    \n",
    "    return np.hstack((X[time_lag:],result))\n",
    "\n",
    "##from each video sample video clips with size=window_L. you can specify stride \n",
    "def make_video_clips(matrix,window_L,stride):\n",
    "    alldata=[]\n",
    "    total_frame=matrix.shape[0]\n",
    "    index=[n for n in range(1,total_frame,stride)]\n",
    "    for start_index in index:\n",
    "        if start_index+window_L> total_frame:\n",
    "            break\n",
    "#         print(start_index)\n",
    "        each_clip_data=matrix[start_index:start_index+window_L]\n",
    "#         each_clip_data=np.transpose(each_clip_data)\n",
    "#         print(each_clip_data.shape)\n",
    "        alldata.append(each_clip_data)\n",
    "    return np.array(alldata)\n",
    "\n",
    "def make_video_feature_list(raw_feature,video_clips_length,time_lag,move_threshold,stride):\n",
    "    training_data=[]\n",
    "    for each_video in raw_feature:\n",
    "        new_feature=get_diff_and_hstack_to_orginal_data(each_video,time_lag,move_threshold)\n",
    "        video_clip=make_video_clips(new_feature,video_clips_length,stride)\n",
    "#         print(video_clip.shape)\n",
    "        training_data.append((video_clip))\n",
    "    return np.array(training_data)\n",
    "\n",
    "\n",
    "def stack_videoClips_and_getLabelByVideoNumber(training_data_list,video_number,label):\n",
    "    if len(training_data_list)!= len(video_number):\n",
    "        print('the length of training_data_list is not equal to video_number_list!')\n",
    "        return \n",
    "    final_data=training_data_list[0]\n",
    "    final_label=[label.get_video_mean_label(video_number[0]) for _ in range(final_data.shape[0])]\n",
    "\n",
    "    for i in range(1,len(training_data_list)):\n",
    "        final_data=np.vstack((final_data,training_data_list[i]))\n",
    "        for j in range(training_data_list[i].shape[0]):\n",
    "            final_label.append(label.get_video_mean_label(video_number[i]))\n",
    "    return final_data,np.array(final_label)\n",
    "\n",
    "\n",
    "def train_test_split_by_videoNumber(total_data,video_number,test_ratio,label):\n",
    "    index=np.array(range(0,len(video_number)))    \n",
    "    train_video_index,test_video_index= train_test_split(index,test_size=test_ratio)\n",
    "    \n",
    "    train_video=total_data[train_video_index]\n",
    "    test_video=total_data[test_video_index]\n",
    "    \n",
    "    train_video_number=video_number[train_video_index]\n",
    "    test_video_number=video_number[test_video_index]\n",
    "    \n",
    "    \n",
    "    train_video,train_video_label=stack_videoClips_and_getLabelByVideoNumber(train_video,train_video_number,label)\n",
    "    test_video,test_video_label=stack_videoClips_and_getLabelByVideoNumber(test_video,test_video_number,label)\n",
    "    return train_video,train_video_label,test_video,test_video_label\n"
   ]
  },
  {
   "cell_type": "code",
   "execution_count": 3,
   "metadata": {},
   "outputs": [
    {
     "name": "stdout",
     "output_type": "stream",
     "text": [
      "[ 11  16  49  59  74  78  91 113 130 143 152 164 171 176 192 194 207 222\n",
      " 225 226 236 237 240 253 257 258 267 276 277 283 294 296 301 302 333 344\n",
      " 345 358 361 368 378 384 401 414 417 425 427 436 440 441 455 457 460 471\n",
      " 486 498 503 507 527 530 536 537 538 539 557 559 562 578 599 615 632 689\n",
      " 716 717 742 761 820 861 881 895 921 924 928 942]\n",
      "before deop:  84\n"
     ]
    }
   ],
   "source": [
    "ll=lh.Label('..//2019_fall_labels.csv')\n",
    "video_number = ll.get_video_number()\n",
    "print(video_number)\n",
    "print(\"before deop: \",len(video_number))"
   ]
  },
  {
   "cell_type": "code",
   "execution_count": 7,
   "metadata": {},
   "outputs": [
    {
     "name": "stdout",
     "output_type": "stream",
     "text": [
      "Video 924 did not find\n",
      "after deop:  83\n"
     ]
    },
    {
     "data": {
      "text/plain": [
       "83"
      ]
     },
     "execution_count": 7,
     "metadata": {},
     "output_type": "execute_result"
    }
   ],
   "source": [
    "folder = \"C:\\\\2019_fall_video_features\"\n",
    "\n",
    "raw_feature,video_number=get_raw_feature_by_folder_and_videoNumbers(folder,video_number)\n",
    "print(\"after deop: \",len(video_number))\n",
    "len(raw_feature)"
   ]
  },
  {
   "cell_type": "code",
   "execution_count": 8,
   "metadata": {
    "scrolled": true
   },
   "outputs": [],
   "source": [
    "# ####################################### set video clips parameters\n",
    "# ############################################### make new 28-d feature\n",
    "video_clips_length=30\n",
    "time_lag=2\n",
    "move_threshold=150\n",
    "stride=video_clips_length\n",
    "\n",
    "training_data_list=prepare_training_data_list(raw_feature,video_clips_length,time_lag,move_threshold,stride)"
   ]
  },
  {
   "cell_type": "code",
   "execution_count": 6,
   "metadata": {},
   "outputs": [],
   "source": [
    "# # x,y = stack_videoClips_and_getLabelByVideoNumber(training_data_list,video_number,ll)\n",
    "# train_x,train_y,test_x,test_y=train_test_split_by_videoNumber(training_data_list,video_number,0.2,ll)"
   ]
  },
  {
   "cell_type": "code",
   "execution_count": 16,
   "metadata": {},
   "outputs": [
    {
     "data": {
      "text/plain": [
       "(3,)"
      ]
     },
     "execution_count": 16,
     "metadata": {},
     "output_type": "execute_result"
    }
   ],
   "source": [
    "training_data_list[[0,1,2]].shape"
   ]
  },
  {
   "cell_type": "code",
   "execution_count": null,
   "metadata": {},
   "outputs": [],
   "source": []
  }
 ],
 "metadata": {
  "kernelspec": {
   "display_name": "Python 3",
   "language": "python",
   "name": "python3"
  },
  "language_info": {
   "codemirror_mode": {
    "name": "ipython",
    "version": 3
   },
   "file_extension": ".py",
   "mimetype": "text/x-python",
   "name": "python",
   "nbconvert_exporter": "python",
   "pygments_lexer": "ipython3",
   "version": "3.6.5"
  },
  "latex_envs": {
   "LaTeX_envs_menu_present": true,
   "autoclose": false,
   "autocomplete": true,
   "bibliofile": "biblio.bib",
   "cite_by": "apalike",
   "current_citInitial": 1,
   "eqLabelWithNumbers": true,
   "eqNumInitial": 1,
   "hotkeys": {
    "equation": "Ctrl-E",
    "itemize": "Ctrl-I"
   },
   "labels_anchors": false,
   "latex_user_defs": false,
   "report_style_numbering": false,
   "user_envs_cfg": false
  },
  "varInspector": {
   "cols": {
    "lenName": 16,
    "lenType": 16,
    "lenVar": 40
   },
   "kernels_config": {
    "python": {
     "delete_cmd_postfix": "",
     "delete_cmd_prefix": "del ",
     "library": "var_list.py",
     "varRefreshCmd": "print(var_dic_list())"
    },
    "r": {
     "delete_cmd_postfix": ") ",
     "delete_cmd_prefix": "rm(",
     "library": "var_list.r",
     "varRefreshCmd": "cat(var_dic_list()) "
    }
   },
   "types_to_exclude": [
    "module",
    "function",
    "builtin_function_or_method",
    "instance",
    "_Feature"
   ],
   "window_display": false
  }
 },
 "nbformat": 4,
 "nbformat_minor": 2
}
