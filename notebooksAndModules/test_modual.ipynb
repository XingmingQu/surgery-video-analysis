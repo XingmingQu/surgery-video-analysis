{
 "cells": [
  {
   "cell_type": "code",
   "execution_count": 1,
   "metadata": {},
   "outputs": [
    {
     "name": "stdout",
     "output_type": "stream",
     "text": [
      "Import an awesome Label helper\n",
      "import an awesome feature helper\n"
     ]
    }
   ],
   "source": [
    "import modules.labelHelper as lh \n",
    "import modules.featureHelper as fh\n",
    "import pandas as pd\n",
    "import numpy as np\n",
    "from sklearn.model_selection import train_test_split"
   ]
  },
  {
   "cell_type": "code",
   "execution_count": 2,
   "metadata": {},
   "outputs": [
    {
     "name": "stdout",
     "output_type": "stream",
     "text": [
      "There are 83 videos in total\n",
      "\n",
      "There are 19 trainees in total\n",
      "\n",
      " Number of Videos from each person\n",
      "Akhtar          -- [176 253 761] ----: 3\n",
      "Cadeddu         -- [164 171] ----: 2\n",
      "Crivelli        -- [225 276 333 425] ----: 4\n",
      "Gahan           -- [257 345 378 384 486] ----: 5\n",
      "Johnson         -- [441 615] ----: 2\n",
      "Keith           -- [240 277 717] ----: 3\n",
      "Kenigsberg      -- [ 78 440 455 471 881] ----: 5\n",
      "Krabbe          -- [152 344 527 861] ----: 4\n",
      "Marthur         -- [130 194 222 368 921] ----: 5\n",
      "Mollengarden    -- [ 59 143 267 460] ----: 4\n",
      "Moony           -- [294 301 361 498 539] ----: 5\n",
      "Passoni         -- [207 237 895 942] ----: 4\n",
      "Rozanski        -- [113 302 716] ----: 3\n",
      "Satyanarayan    -- [ 16  74 236 358 436 457 503 537 557 578 599 632 689] ----: 13\n",
      "Singla          -- [ 49 536 538] ----: 3\n",
      "Sorokin         -- [ 91 226 507 530] ----: 4\n",
      "Timburlake      -- [258 296 559 742] ----: 4\n",
      "Tse             -- [ 11 283 414 427 562 928] ----: 6\n",
      "Varun           -- [192 401 417 820] ----: 4\n"
     ]
    }
   ],
   "source": [
    "ll=lh.Label('..//2019_fall_labels.csv')\n",
    "\n",
    "print(\"There are %d videos in total\\n\"%ll.video_count())\n",
    "\n",
    "ll.get_trainee_info()"
   ]
  },
  {
   "cell_type": "code",
   "execution_count": 3,
   "metadata": {},
   "outputs": [
    {
     "name": "stdout",
     "output_type": "stream",
     "text": [
      "83\n"
     ]
    },
    {
     "data": {
      "text/plain": [
       "array([ 11,  16,  49,  59,  74,  78,  91, 113, 130, 143, 152, 164, 171,\n",
       "       176, 192, 194, 207, 222, 225, 226, 236, 237, 240, 253, 257, 258,\n",
       "       267, 276, 277, 283, 294, 296, 301, 302, 333, 344, 345, 358, 361,\n",
       "       368, 378, 384, 401, 414, 417, 425, 427, 436, 440, 441, 455, 457,\n",
       "       460, 471, 486, 498, 503, 507, 527, 530, 536, 537, 538, 539, 557,\n",
       "       559, 562, 578, 599, 615, 632, 689, 716, 717, 742, 761, 820, 861,\n",
       "       881, 895, 921, 928, 942], dtype=int64)"
      ]
     },
     "execution_count": 3,
     "metadata": {},
     "output_type": "execute_result"
    }
   ],
   "source": [
    "print(ll.video_count())\n",
    "ll.get_video_number()"
   ]
  },
  {
   "cell_type": "code",
   "execution_count": 4,
   "metadata": {},
   "outputs": [
    {
     "name": "stdout",
     "output_type": "stream",
     "text": [
      "median label:  [3. 2. 2. 2. 4. 3.]\n",
      "mean label:  [2.85714286 2.28571429 2.28571429 2.         3.14285714 2.57142857]\n"
     ]
    }
   ],
   "source": [
    "print(\"median label: \",ll.get_video_median_label_by_video_number(11))\n",
    "print(\"mean label: \",ll.get_video_mean_label_by_video_number(11))"
   ]
  },
  {
   "cell_type": "code",
   "execution_count": 5,
   "metadata": {},
   "outputs": [
    {
     "name": "stdout",
     "output_type": "stream",
     "text": [
      "   VideoNum  DP  BD  E  FS  A  RC lastName\n",
      "0        11   4   3  3   3  4   3      Tse\n",
      "   VideoNum  DP  BD  E  FS  A  RC lastName\n",
      "0        11   1   1  1   1  1   1      Tse\n",
      "\n",
      "This video has 7 reviewers\n"
     ]
    }
   ],
   "source": [
    "MAX,MIN=ll.get_video_score_range_by_video_number(11)\n",
    "print(MAX)\n",
    "print(MIN)\n",
    "print(\"\\nThis video has %d reviewers\"%ll.get_review_times_by_video_number(11))"
   ]
  },
  {
   "cell_type": "code",
   "execution_count": 6,
   "metadata": {},
   "outputs": [
    {
     "name": "stdout",
     "output_type": "stream",
     "text": [
      "train on videos from:\n",
      " ['Marthur', 'Kenigsberg', 'Singla', 'Sorokin', 'Satyanarayan', 'Krabbe', 'Varun', 'Cadeddu', 'Tse', 'Akhtar', 'Rozanski', 'Keith', 'Mollengarden', 'Moony', 'Crivelli']\n",
      "test on videos from:\n",
      " ['Timburlake', 'Gahan', 'Passoni', 'Johnson']\n",
      "[130 194 222 368 921  78 440 455 471 881  49 536 538  91 226 507 530  16\n",
      "  74 236 358 436 457 503 537 557 578 599 632 689 152 344 527 861 192 401\n",
      " 417 820 164 171  11 283 414 427 562 928 176 253 761 113 302 716 240 277\n",
      " 717  59 143 267 460 294 301 361 498 539 225 276 333 425]\n",
      "[258 296 559 742 257 345 378 384 486 207 237 895 942 441 615]\n"
     ]
    }
   ],
   "source": [
    "train_video_number,test_video_number=ll.train_test_split_on_people(0.2)\n",
    "print(train_video_number)\n",
    "print(test_video_number)"
   ]
  },
  {
   "cell_type": "code",
   "execution_count": 7,
   "metadata": {},
   "outputs": [],
   "source": [
    "folder = \"C:\\\\2019_fall_video_features\"\n",
    "video_clips_length=30\n",
    "time_lag=2\n",
    "move_threshold=150\n",
    "stride=video_clips_length\n"
   ]
  },
  {
   "cell_type": "code",
   "execution_count": 8,
   "metadata": {},
   "outputs": [
    {
     "name": "stdout",
     "output_type": "stream",
     "text": [
      "load feature from files, there are 68 videos\n",
      "after deop:  68\n",
      "load feature from files, there are 15 videos\n",
      "after deop:  15\n",
      "(2227, 30, 28)\n",
      "(2227, 6)\n",
      "(475, 30, 28)\n",
      "(475, 6)\n"
     ]
    }
   ],
   "source": [
    "# train test split by people\n",
    "train_video,train_video_label=fh.make_train_test_data_from_video_numbers(folder,train_video_number,video_clips_length,time_lag,move_threshold,stride,ll)\n",
    "test_video,test_video_label=fh.make_train_test_data_from_video_numbers(folder,test_video_number,video_clips_length,time_lag,move_threshold,stride,ll)\n",
    "print(train_video.shape)\n",
    "print(train_video_label.shape)\n",
    "print(test_video.shape)\n",
    "print(test_video_label.shape)"
   ]
  },
  {
   "cell_type": "code",
   "execution_count": 9,
   "metadata": {},
   "outputs": [
    {
     "name": "stdout",
     "output_type": "stream",
     "text": [
      "before deop we have 83 videos\n",
      "load feature from files, there are 83 videos\n",
      "after deop:  83\n",
      "we have 83 video after drop\n",
      "(2414, 30, 28)\n",
      "(2414, 6)\n",
      "(288, 30, 28)\n",
      "(288, 6)\n"
     ]
    }
   ],
   "source": [
    "# train test split by ratio\n",
    "train_video,train_video_label,test_video,test_video_label=fh.make_train_test_data_split_by_video_ratio(folder,ll,video_clips_length,time_lag,move_threshold,stride,0.2)\n",
    "print(train_video.shape)\n",
    "print(train_video_label.shape)\n",
    "print(test_video.shape)\n",
    "print(test_video_label.shape)"
   ]
  },
  {
   "cell_type": "code",
   "execution_count": 10,
   "metadata": {
    "scrolled": false
   },
   "outputs": [],
   "source": [
    "review_times=[ll.get_review_times_by_video_number(i) for i in ll.get_video_number()]\n"
   ]
  },
  {
   "cell_type": "code",
   "execution_count": 11,
   "metadata": {},
   "outputs": [],
   "source": [
    "import matplotlib.pyplot as plt"
   ]
  },
  {
   "cell_type": "code",
   "execution_count": 12,
   "metadata": {},
   "outputs": [
    {
     "data": {
      "image/png": "[encoded data removed]",
      "text/plain": [
       "<Figure size 432x288 with 1 Axes>"
      ]
     },
     "metadata": {},
     "output_type": "display_data"
    }
   ],
   "source": [
    "p1 = plt.bar(review_times, ll.get_video_number())"
   ]
  },
  {
   "cell_type": "code",
   "execution_count": 13,
   "metadata": {},
   "outputs": [
    {
     "data": {
      "text/plain": [
       "Text(0.5,0,'Number of reviewer')"
      ]
     },
     "execution_count": 13,
     "metadata": {},
     "output_type": "execute_result"
    },
    {
     "data": {
      "image/png": "[encoded data removed]",
      "text/plain": [
       "<Figure size 432x288 with 1 Axes>"
      ]
     },
     "metadata": {},
     "output_type": "display_data"
    }
   ],
   "source": [
    "plt.hist(x=review_times)\n",
    "plt.ylabel('Number of videos')\n",
    "plt.xlabel('Number of reviewer')"
   ]
  },
  {
   "cell_type": "code",
   "execution_count": null,
   "metadata": {},
   "outputs": [],
   "source": []
  }
 ],
 "metadata": {
  "kernelspec": {
   "display_name": "Python 3",
   "language": "python",
   "name": "python3"
  },
  "language_info": {
   "codemirror_mode": {
    "name": "ipython",
    "version": 3
   },
   "file_extension": ".py",
   "mimetype": "text/x-python",
   "name": "python",
   "nbconvert_exporter": "python",
   "pygments_lexer": "ipython3",
   "version": "3.6.5"
  },
  "latex_envs": {
   "LaTeX_envs_menu_present": true,
   "autoclose": false,
   "autocomplete": true,
   "bibliofile": "biblio.bib",
   "cite_by": "apalike",
   "current_citInitial": 1,
   "eqLabelWithNumbers": true,
   "eqNumInitial": 1,
   "hotkeys": {
    "equation": "Ctrl-E",
    "itemize": "Ctrl-I"
   },
   "labels_anchors": false,
   "latex_user_defs": false,
   "report_style_numbering": false,
   "user_envs_cfg": false
  },
  "varInspector": {
   "cols": {
    "lenName": 16,
    "lenType": 16,
    "lenVar": 40
   },
   "kernels_config": {
    "python": {
     "delete_cmd_postfix": "",
     "delete_cmd_prefix": "del ",
     "library": "var_list.py",
     "varRefreshCmd": "print(var_dic_list())"
    },
    "r": {
     "delete_cmd_postfix": ") ",
     "delete_cmd_prefix": "rm(",
     "library": "var_list.r",
     "varRefreshCmd": "cat(var_dic_list()) "
    }
   },
   "types_to_exclude": [
    "module",
    "function",
    "builtin_function_or_method",
    "instance",
    "_Feature"
   ],
   "window_display": false
  }
 },
 "nbformat": 4,
 "nbformat_minor": 2
}
