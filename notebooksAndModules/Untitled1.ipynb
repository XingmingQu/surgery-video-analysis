{
 "cells": [
  {
   "cell_type": "code",
   "execution_count": 1,
   "metadata": {},
   "outputs": [],
   "source": [
    "import turtle, math\n",
    "# import modules.labelHelper as lh \n",
    "# import modules.featureHelper as fh\n",
    "import os\n",
    "import numpy as np"
   ]
  },
  {
   "cell_type": "code",
   "execution_count": 2,
   "metadata": {},
   "outputs": [],
   "source": [
    "\n",
    "path = \"../2019_fall_video_features/raw_11.npy\"\n",
    "data = np.load(path)\n",
    "left_top_xy=data[:,-2:]\n"
   ]
  },
  {
   "cell_type": "code",
   "execution_count": null,
   "metadata": {},
   "outputs": [],
   "source": [
    "# draw a line from (x1, y1) to (x2, y2)\n",
    "def drawLine (ttl, x1, y1, x2, y2):\n",
    "    ttl.penup()\n",
    "    if x1 != 0:\n",
    "        ttl.pendown()\n",
    "    ttl.goto (x1, y1)\n",
    "    if x2 != 0:\n",
    "        ttl.pendown()\n",
    "    ttl.goto (x2, y2)\n",
    "    ttl.penup()\n",
    "\n",
    "\n",
    "# put label on top of page\n",
    "turtle.title ('Geometric Figures')\n",
    "\n",
    "# setup screen size\n",
    "turtle.setup (800, 800, 0, 0)\n",
    "\n",
    "# create a turtle object\n",
    "ttl = turtle.Turtle()\n",
    "\n",
    "# draw a line\n",
    "ttl.color ('gold4')\n",
    "\n",
    "\n",
    "# check start\n",
    "startX=0\n",
    "startY=0\n",
    "startFrame = 0\n",
    "for i in range(len(left_top_xy)):\n",
    "    if left_top_xy[i][0]!=0 and left_top_xy[i][1] != 0:\n",
    "        startX=left_top_xy[i][0]\n",
    "        startY=left_top_xy[i][1]\n",
    "        startFrame = i\n",
    "        break\n",
    "\n",
    "        \n",
    "# plot\n",
    "\n",
    "for i in range(startFrame,len(left_top_xy)-1) :\n",
    "    startx = left_top_xy[i][0]\n",
    "    starty = left_top_xy[i][1]\n",
    "    \n",
    "    endx = left_top_xy[i+1][0]\n",
    "    endy = left_top_xy[i+1][1]\n",
    "    \n",
    "    if endx==0 and endy ==0:\n",
    "        endx = startx\n",
    "        endy = starty\n",
    "        \n",
    "    drawLine (ttl, startX, starty, endx, endy)\n",
    "# drawLine (ttl, -200, -15, 325, -15)\n",
    "\n",
    "# # persist drawing\n",
    "turtle.done()\n",
    "\n",
    "\n"
   ]
  },
  {
   "cell_type": "code",
   "execution_count": null,
   "metadata": {},
   "outputs": [],
   "source": []
  },
  {
   "cell_type": "code",
   "execution_count": null,
   "metadata": {},
   "outputs": [],
   "source": [
    "len(left_top_xy)"
   ]
  },
  {
   "cell_type": "code",
   "execution_count": null,
   "metadata": {},
   "outputs": [],
   "source": []
  }
 ],
 "metadata": {
  "kernelspec": {
   "display_name": "Python 3",
   "language": "python",
   "name": "python3"
  },
  "language_info": {
   "codemirror_mode": {
    "name": "ipython",
    "version": 3
   },
   "file_extension": ".py",
   "mimetype": "text/x-python",
   "name": "python",
   "nbconvert_exporter": "python",
   "pygments_lexer": "ipython3",
   "version": "3.7.4"
  }
 },
 "nbformat": 4,
 "nbformat_minor": 4
}
