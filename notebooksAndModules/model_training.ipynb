{
 "cells": [
  {
   "cell_type": "code",
   "execution_count": 1,
   "metadata": {},
   "outputs": [
    {
     "name": "stdout",
     "output_type": "stream",
     "text": [
      "Import an awesome Label helper\n",
      "import an awesome feature helper\n"
     ]
    },
    {
     "name": "stderr",
     "output_type": "stream",
     "text": [
      "C:\\Users\\razer\\AppData\\Local\\Continuum\\anaconda3\\lib\\site-packages\\h5py\\__init__.py:36: FutureWarning: Conversion of the second argument of issubdtype from `float` to `np.floating` is deprecated. In future, it will be treated as `np.float64 == np.dtype(float).type`.\n",
      "  from ._conv import register_converters as _register_converters\n",
      "Using TensorFlow backend.\n",
      "C:\\Users\\razer\\AppData\\Local\\Continuum\\anaconda3\\lib\\site-packages\\tensorflow\\python\\framework\\dtypes.py:523: FutureWarning: Passing (type, 1) or '1type' as a synonym of type is deprecated; in a future version of numpy, it will be understood as (type, (1,)) / '(1,)type'.\n",
      "  _np_qint8 = np.dtype([(\"qint8\", np.int8, 1)])\n",
      "C:\\Users\\razer\\AppData\\Local\\Continuum\\anaconda3\\lib\\site-packages\\tensorflow\\python\\framework\\dtypes.py:524: FutureWarning: Passing (type, 1) or '1type' as a synonym of type is deprecated; in a future version of numpy, it will be understood as (type, (1,)) / '(1,)type'.\n",
      "  _np_quint8 = np.dtype([(\"quint8\", np.uint8, 1)])\n",
      "C:\\Users\\razer\\AppData\\Local\\Continuum\\anaconda3\\lib\\site-packages\\tensorflow\\python\\framework\\dtypes.py:525: FutureWarning: Passing (type, 1) or '1type' as a synonym of type is deprecated; in a future version of numpy, it will be understood as (type, (1,)) / '(1,)type'.\n",
      "  _np_qint16 = np.dtype([(\"qint16\", np.int16, 1)])\n",
      "C:\\Users\\razer\\AppData\\Local\\Continuum\\anaconda3\\lib\\site-packages\\tensorflow\\python\\framework\\dtypes.py:526: FutureWarning: Passing (type, 1) or '1type' as a synonym of type is deprecated; in a future version of numpy, it will be understood as (type, (1,)) / '(1,)type'.\n",
      "  _np_quint16 = np.dtype([(\"quint16\", np.uint16, 1)])\n",
      "C:\\Users\\razer\\AppData\\Local\\Continuum\\anaconda3\\lib\\site-packages\\tensorflow\\python\\framework\\dtypes.py:527: FutureWarning: Passing (type, 1) or '1type' as a synonym of type is deprecated; in a future version of numpy, it will be understood as (type, (1,)) / '(1,)type'.\n",
      "  _np_qint32 = np.dtype([(\"qint32\", np.int32, 1)])\n",
      "C:\\Users\\razer\\AppData\\Local\\Continuum\\anaconda3\\lib\\site-packages\\tensorflow\\python\\framework\\dtypes.py:532: FutureWarning: Passing (type, 1) or '1type' as a synonym of type is deprecated; in a future version of numpy, it will be understood as (type, (1,)) / '(1,)type'.\n",
      "  np_resource = np.dtype([(\"resource\", np.ubyte, 1)])\n"
     ]
    }
   ],
   "source": [
    "import modules.labelHelper as lh \n",
    "import modules.featureHelper as fh\n",
    "from keras.callbacks import (ModelCheckpoint, LearningRateScheduler,\n",
    "                             EarlyStopping, ReduceLROnPlateau,CSVLogger)\n",
    "import pandas as pd\n",
    "import numpy as np\n",
    "from sklearn.model_selection import train_test_split\n",
    "from matplotlib import pyplot as plt\n",
    "import warnings\n",
    "import keras\n",
    "from keras.callbacks import EarlyStopping\n",
    "from keras.regularizers import l2 \n",
    "from keras.models import Sequential\n",
    "from keras.layers import Reshape\n",
    "from keras.layers import Dense, Dropout, Activation, Flatten,Conv1D, GlobalAveragePooling1D, MaxPooling1D,AveragePooling1D\n",
    "from keras.layers import Conv2D, MaxPooling2D,Conv1D,GlobalMaxPooling1D,MaxPooling1D,average, concatenate,RepeatVector,Lambda,add,subtract,Activation\n",
    "from keras.preprocessing.image import ImageDataGenerator\n",
    "from keras.models import Input, Model\n",
    "from sklearn import metrics as mt\n",
    "from skimage.io import imshow\n",
    "from sklearn import preprocessing\n",
    "from matplotlib.patches import Rectangle\n",
    "from scipy.ndimage import maximum_filter1d\n",
    "from keras import backend as K\n",
    "from keras.layers.normalization import BatchNormalization\n",
    "warnings.filterwarnings('ignore')\n",
    "from modules.modelTools import *\n",
    "from IPython.display import SVG\n",
    "from keras.utils.vis_utils import model_to_dot\n",
    "from modules.plotHelper import *\n",
    "from matplotlib.patches import Rectangle"
   ]
  },
  {
   "cell_type": "code",
   "execution_count": 2,
   "metadata": {
    "scrolled": true
   },
   "outputs": [
    {
     "name": "stdout",
     "output_type": "stream",
     "text": [
      "There are 83 videos in total\n",
      "\n",
      "There are 19 trainees in total\n",
      "\n",
      " Number of Videos from each person\n",
      "Akhtar          -- [176 253 761] ----: 3\n",
      "Cadeddu         -- [164 171] ----: 2\n",
      "Crivelli        -- [225 276 333 425] ----: 4\n",
      "Gahan           -- [257 345 378 384 486] ----: 5\n",
      "Johnson         -- [441 615] ----: 2\n",
      "Keith           -- [240 277 717] ----: 3\n",
      "Kenigsberg      -- [ 78 440 455 471 881] ----: 5\n",
      "Krabbe          -- [152 344 527 861] ----: 4\n",
      "Marthur         -- [130 194 222 368 921] ----: 5\n",
      "Mollengarden    -- [ 59 143 267 460] ----: 4\n",
      "Moony           -- [294 301 361 498 539] ----: 5\n",
      "Passoni         -- [207 237 895 942] ----: 4\n",
      "Rozanski        -- [113 302 716] ----: 3\n",
      "Satyanarayan    -- [ 16  74 236 358 436 457 503 537 557 578 599 632 689] ----: 13\n",
      "Singla          -- [ 49 536 538] ----: 3\n",
      "Sorokin         -- [ 91 226 507 530] ----: 4\n",
      "Timburlake      -- [258 296 559 742] ----: 4\n",
      "Tse             -- [ 11 283 414 427 562 928] ----: 6\n",
      "Varun           -- [192 401 417 820] ----: 4\n",
      "train on videos from:\n",
      " ['Akhtar', 'Krabbe', 'Johnson', 'Singla', 'Varun', 'Crivelli', 'Cadeddu', 'Kenigsberg', 'Mollengarden', 'Satyanarayan', 'Gahan', 'Marthur', 'Tse', 'Keith', 'Rozanski']\n",
      "test on videos from:\n",
      " ['Sorokin', 'Moony', 'Passoni', 'Timburlake']\n",
      "[176 253 761 152 344 527 861 441 615  49 536 538 192 401 417 820 225 276\n",
      " 333 425 164 171  78 440 455 471 881  59 143 267 460  16  74 236 358 436\n",
      " 457 503 537 557 578 599 632 689 257 345 378 384 486 130 194 222 368 921\n",
      "  11 283 414 427 562 928 240 277 717 113 302 716]\n",
      "[ 91 226 507 530 294 301 361 498 539 207 237 895 942 258 296 559 742]\n",
      "load feature from files, there are 66 videos\n",
      "after deop:  66\n",
      "load feature from files, there are 17 videos\n",
      "after deop:  17\n",
      "(2118, 30, 28)\n",
      "(2118, 6)\n",
      "(584, 30, 28)\n",
      "(584, 6)\n"
     ]
    }
   ],
   "source": [
    "ll=lh.Label('../2019_fall_labels.csv')\n",
    "print(\"There are %d videos in total\\n\"%ll.video_count())\n",
    "ll.get_trainee_info()\n",
    "\n",
    "train_video_number,test_video_number=ll.train_test_split_on_people(0.2)\n",
    "print(train_video_number)\n",
    "print(test_video_number)\n",
    "\n",
    "## set up feature parameters ##\n",
    "folder = \"../2019_fall_video_features\"\n",
    "video_clips_length=30\n",
    "time_lag=2\n",
    "move_threshold=150\n",
    "stride=video_clips_length\n",
    "\n",
    "# train test split by people\n",
    "train_video,train_video_label=fh.make_train_test_data_from_video_numbers(folder,train_video_number,video_clips_length,time_lag,move_threshold,stride,ll)\n",
    "test_video,test_video_label=fh.make_train_test_data_from_video_numbers(folder,test_video_number,video_clips_length,time_lag,move_threshold,stride,ll)\n",
    "print(train_video.shape)\n",
    "print(train_video_label.shape)\n",
    "print(test_video.shape)\n",
    "print(test_video_label.shape)"
   ]
  },
  {
   "cell_type": "code",
   "execution_count": 3,
   "metadata": {},
   "outputs": [
    {
     "data": {
      "text/plain": [
       "(1, 13.5)"
      ]
     },
     "execution_count": 3,
     "metadata": {},
     "output_type": "execute_result"
    }
   ],
   "source": [
    "ll.get_video_level_by_video_number(236,'mean')"
   ]
  },
  {
   "cell_type": "code",
   "execution_count": 4,
   "metadata": {
    "scrolled": false
   },
   "outputs": [],
   "source": [
    "X_train=train_video/640-0.5\n",
    "X_test=test_video/640-0.5\n",
    "y_train=train_video_label/5\n",
    "y_test=test_video_label/5\n",
    "\n",
    "sample_of_trainningdata=X_train.shape[0]\n",
    "sample_of_testdata=X_test.shape[0]\n",
    "\n",
    "batch_size=64\n",
    "\n",
    "train_gen=generator(X_train, y_train, batch_size,0.1)\n",
    "val_gen=generator(X_test, y_test, batch_size,0)\n",
    "\n",
    "#prepare for inout shape\n",
    "clip_lenth=X_train.shape[1]\n",
    "dimension=X_train.shape[2]\n",
    "l2_lambda=0.01\n",
    "model=make_model(0.01,clip_lenth,dimension)\n",
    "\n",
    "callbacks_list = get_callback_list_by_model('MTmodel')"
   ]
  },
  {
   "cell_type": "code",
   "execution_count": 5,
   "metadata": {},
   "outputs": [],
   "source": [
    "# SVG(model_to_dot(model,show_shapes=True).create(prog='dot', format='svg'))"
   ]
  },
  {
   "cell_type": "code",
   "execution_count": 6,
   "metadata": {
    "scrolled": false
   },
   "outputs": [],
   "source": [
    "# model_h=model.fit_generator(train_gen,\n",
    "#                     steps_per_epoch=sample_of_trainningdata//batch_size,\n",
    "#                     epochs=40,\n",
    "#                     validation_data=val_gen,\n",
    "#                    validation_steps=sample_of_testdata//batch_size,\n",
    "#                     verbose=0,\n",
    "#                     callbacks=callbacks_list\n",
    "#  )\n",
    "\n",
    "# ax=plt.figure(figsize=(12,14))\n",
    "# ax = plt.subplot(421)\n",
    "# ax.plot(model_h.history['loss'])\n",
    "# plt.ylabel('Training Loss')\n",
    "# plt.xlabel('epochs')\n",
    "\n",
    "# ax = plt.subplot(422)\n",
    "# ax.plot(model_h.history['val_loss'])\n",
    "# plt.ylabel('Validation Loss')\n",
    "# plt.xlabel('epochs')"
   ]
  },
  {
   "cell_type": "code",
   "execution_count": 7,
   "metadata": {},
   "outputs": [],
   "source": [
    "model.load_weights('model_zoo/MTmodel.h5')"
   ]
  },
  {
   "cell_type": "code",
   "execution_count": 8,
   "metadata": {},
   "outputs": [],
   "source": [
    "# def convert_to_skill(results,meanOrMedian=\"median\"):\n",
    "#     if meanOrMedian == \"mean\":\n",
    "#         totalScore=np.mean(results,axis=0)\n",
    "#     else:\n",
    "#         totalScore=np.median(results,axis=0)\n",
    "#     totalScore= np.sum(totalScore)\n",
    "#     print(totalScore)\n",
    "#     if totalScore<=13:\n",
    "#         return 0\n",
    "#     elif totalScore<=21:\n",
    "#         return 1\n",
    "#     else:\n",
    "#         return 2\n",
    "#     # GEARS 6-13 = novice=0, GEARS 14-21 intermediate=1, GEARS 22-30 expert=2"
   ]
  },
  {
   "cell_type": "code",
   "execution_count": 10,
   "metadata": {},
   "outputs": [
    {
     "name": "stdout",
     "output_type": "stream",
     "text": [
      "load feature from files, there are 1 videos\n",
      "after deop:  1\n",
      "load feature from files, there are 1 videos\n",
      "after deop:  1\n",
      "load feature from files, there are 1 videos\n",
      "after deop:  1\n",
      "load feature from files, there are 1 videos\n",
      "after deop:  1\n",
      "load feature from files, there are 1 videos\n",
      "after deop:  1\n",
      "load feature from files, there are 1 videos\n",
      "after deop:  1\n",
      "load feature from files, there are 1 videos\n",
      "after deop:  1\n",
      "load feature from files, there are 1 videos\n",
      "after deop:  1\n",
      "load feature from files, there are 1 videos\n",
      "after deop:  1\n",
      "load feature from files, there are 1 videos\n",
      "after deop:  1\n",
      "load feature from files, there are 1 videos\n",
      "after deop:  1\n",
      "load feature from files, there are 1 videos\n",
      "after deop:  1\n",
      "load feature from files, there are 1 videos\n",
      "after deop:  1\n",
      "load feature from files, there are 1 videos\n",
      "after deop:  1\n",
      "load feature from files, there are 1 videos\n",
      "after deop:  1\n",
      "load feature from files, there are 1 videos\n",
      "after deop:  1\n",
      "load feature from files, there are 1 videos\n",
      "after deop:  1\n"
     ]
    }
   ],
   "source": [
    "predict_label=[]\n",
    "gt_label=[]\n",
    "for t_number in test_video_number:\n",
    "#     print(\"Video:\",t_number)\n",
    "    re,gt = model_predit_by_videoNumber(model,folder,t_number,video_clips_length,time_lag,move_threshold,stride,ll)  \n",
    "#     print('\\n')\n",
    "    \n",
    "    predict_level,predict_totalScore=convert_to_skill(re,'median')\n",
    "    \n",
    "    gt_level,gt_totalScore=ll.get_video_level_by_video_number(t_number,'median')\n",
    "    \n",
    "#     print(\"Predict vs GT level:\",predict_level,gt_level)\n",
    "#     print(\"Predict Score vs GT Score:\",predict_totalScore,gt_totalScore)\n",
    "    predict_label.append(predict_level)\n",
    "    gt_label.append(gt_level)\n",
    "\n",
    "#     vmax,vmin=ll.get_video_score_range_by_video_number(t_number)\n",
    "#     plot(re,gt,vmax,vmin,detail=False)\n",
    "#     print(\"----------------------------------------------------------------------\\n\")"
   ]
  },
  {
   "cell_type": "code",
   "execution_count": 17,
   "metadata": {},
   "outputs": [
    {
     "data": {
      "text/plain": [
       "[1, 1, 1, 1, 1, 1, 1, 1, 1, 1, 1, 1, 1, 1, 1, 1, 2]"
      ]
     },
     "execution_count": 17,
     "metadata": {},
     "output_type": "execute_result"
    }
   ],
   "source": [
    "predict_label"
   ]
  },
  {
   "cell_type": "code",
   "execution_count": 18,
   "metadata": {},
   "outputs": [
    {
     "data": {
      "text/plain": [
       "[2, 2, 2, 1, 2, 1, 1, 1, 0, 1, 1, 1, 1, 2, 2, 2, 2]"
      ]
     },
     "execution_count": 18,
     "metadata": {},
     "output_type": "execute_result"
    }
   ],
   "source": [
    "gt_label"
   ]
  },
  {
   "cell_type": "code",
   "execution_count": 16,
   "metadata": {},
   "outputs": [
    {
     "data": {
      "text/plain": [
       "0.5294117647058824"
      ]
     },
     "execution_count": 16,
     "metadata": {},
     "output_type": "execute_result"
    }
   ],
   "source": [
    "sum(np.array(predict_label)==np.array(gt_label))/len(predict_label)"
   ]
  },
  {
   "cell_type": "code",
   "execution_count": null,
   "metadata": {},
   "outputs": [],
   "source": []
  }
 ],
 "metadata": {
  "kernelspec": {
   "display_name": "Python 3",
   "language": "python",
   "name": "python3"
  },
  "language_info": {
   "codemirror_mode": {
    "name": "ipython",
    "version": 3
   },
   "file_extension": ".py",
   "mimetype": "text/x-python",
   "name": "python",
   "nbconvert_exporter": "python",
   "pygments_lexer": "ipython3",
   "version": "3.6.5"
  },
  "latex_envs": {
   "LaTeX_envs_menu_present": true,
   "autoclose": false,
   "autocomplete": true,
   "bibliofile": "biblio.bib",
   "cite_by": "apalike",
   "current_citInitial": 1,
   "eqLabelWithNumbers": true,
   "eqNumInitial": 1,
   "hotkeys": {
    "equation": "Ctrl-E",
    "itemize": "Ctrl-I"
   },
   "labels_anchors": false,
   "latex_user_defs": false,
   "report_style_numbering": false,
   "user_envs_cfg": false
  },
  "varInspector": {
   "cols": {
    "lenName": 16,
    "lenType": 16,
    "lenVar": 40
   },
   "kernels_config": {
    "python": {
     "delete_cmd_postfix": "",
     "delete_cmd_prefix": "del ",
     "library": "var_list.py",
     "varRefreshCmd": "print(var_dic_list())"
    },
    "r": {
     "delete_cmd_postfix": ") ",
     "delete_cmd_prefix": "rm(",
     "library": "var_list.r",
     "varRefreshCmd": "cat(var_dic_list()) "
    }
   },
   "types_to_exclude": [
    "module",
    "function",
    "builtin_function_or_method",
    "instance",
    "_Feature"
   ],
   "window_display": false
  }
 },
 "nbformat": 4,
 "nbformat_minor": 2
}
